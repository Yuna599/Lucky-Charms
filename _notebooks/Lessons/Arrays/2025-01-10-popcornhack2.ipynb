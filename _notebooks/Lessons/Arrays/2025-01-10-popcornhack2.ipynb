{
 "cells": [
  {
   "cell_type": "markdown",
<<<<<<< HEAD
   "metadata": {
    "vscode": {
     "languageId": "plaintext"
    }
   },
   "source": [
    "---\n",
    "layout: page\n",
    "title: Popcorn Hacks One\n",
    "permalink: /phjupyter/\n",
=======
   "metadata": {},
   "source": [
    "```yaml\n",
    "\n",
    "---\n",
    "layout: page\n",
    "title: Popcorn Hacks Two\n",
    "permalink: /pch3/\n",
>>>>>>> 2b7f3fb (Arrays)
    "---"
   ]
  },
  {
   "cell_type": "markdown",
   "metadata": {},
   "source": [
<<<<<<< HEAD
    "instructions:\n",
    " - Create a length of a list and print it in console.log()\n",
    " - Create a variable called \"list\" or \"my_list_2\"\n",
    " - Create a list of numbers or words in the brackets [] Exp: let your_list = [3, 7, 9, 21];\n",
    " - Create a const length = your_list.length;\n",
    " - After all of that, finally print it out in console.log() Exp: console.log(your_list);\n"
=======
    "---\n",
    "Popcorn Hack #2\n",
    "---"
   ]
  },
  {
   "cell_type": "markdown",
   "metadata": {},
   "source": [
    "<br>\n",
    "Create a length of a list and print it in console.log()\n",
    "\n",
    "<br>\n",
    "Create a variable called \"list\" or \"my_list_2\"\n",
    "<br>\n",
    "Create a list of numbers or words in the brackets [] Exp: let your_list = [3, 7, 9, 21];\n",
    "<br>\n",
    "Create a const length = your_list.length;\n",
    "<br>\n",
    "After all of that, finally print it out in console.log() Exp: console.log(your_list);\n",
<<<<<<< HEAD
    "<br>"
=======
    "<br>\n"
>>>>>>> 546b4534 (rtgourhgbouhfgbou)
>>>>>>> 2b7f3fb (Arrays)
   ]
  },
  {
   "cell_type": "code",
<<<<<<< HEAD
   "execution_count": 2,
=======
   "execution_count": null,
>>>>>>> 2b7f3fb (Arrays)
   "metadata": {
    "vscode": {
     "languageId": "javascript"
    }
   },
<<<<<<< HEAD
   "outputs": [
    {
     "data": {
      "application/javascript": "let list = [2, 4, 8, 16, 32, 64]; // create an variable\nconst length = list.length; // create a const length\nconsole.log(list); // print out your list in console\n",
      "text/plain": [
       "<IPython.core.display.Javascript object>"
      ]
     },
     "metadata": {},
     "output_type": "display_data"
    }
   ],
   "source": [
    "%%js\n",
    "let list = [2, 4, 8, 16, 32, 64]; // create an variable\n",
    "const length = list.length; // create a const length\n",
    "console.log(list); // print out your list in console"
=======
   "outputs": [],
   "source": [
    "%%js   \n",
<<<<<<< HEAD
    "\n",
    "\n",
    "let \" \" = []; // create an variable \n",
    "\n",
    "\n",
    "const length = \"\".length; // create a const length\n",
    "\n",
    "\n",
    "console.log(\"\"); // print out your list in console"
=======
    "\n",
    "let \" \" = []; // create an variable \n",
    "\n",
    "const length = \"\".length; // create a const length\n",
    "\n",
    "console.log(\"\"); // print out your list in console\n"
>>>>>>> 546b4534 (rtgourhgbouhfgbou)
>>>>>>> 2b7f3fb (Arrays)
   ]
  }
 ],
 "metadata": {
  "kernelspec": {
<<<<<<< HEAD
   "display_name": "Python 3",
=======
   "display_name": ".venv",
>>>>>>> 2b7f3fb (Arrays)
   "language": "python",
   "name": "python3"
  },
  "language_info": {
<<<<<<< HEAD
   "codemirror_mode": {
    "name": "ipython",
    "version": 3
   },
   "file_extension": ".py",
   "mimetype": "text/x-python",
   "name": "python",
   "nbconvert_exporter": "python",
   "pygments_lexer": "ipython3",
   "version": "3.12.5"
=======
   "name": "python",
   "version": "3.9.6"
>>>>>>> 2b7f3fb (Arrays)
  }
 },
 "nbformat": 4,
 "nbformat_minor": 2
}
