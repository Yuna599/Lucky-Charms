{
 "cells": [
  {
   "cell_type": "code",
   "execution_count": null,
   "metadata": {
    "vscode": {
     "languageId": "yaml"
    }
   },
   "outputs": [],
   "source": [
    "---\n",
    "layout: page\n",
    "title: Array Homework\n",
    "permalink: /hwjupyter/\n",
    "comments: true\n",
    "categories: [CSSE JavaScript Fundamentals]\n",
    "---"
   ]
  },
  {
   "cell_type": "markdown",
   "metadata": {},
   "source": [
    "# Homework!! #\n",
    "\n",
    "Your task is to fill in the following code to alter the arrays!"
   ]
  },
  {
   "cell_type": "markdown",
   "metadata": {},
   "source": [
    "# Lesson 1 Homework"
   ]
  },
  {
   "cell_type": "code",
   "execution_count": 13,
   "metadata": {
    "vscode": {
     "languageId": "javascript"
    }
   },
   "outputs": [
    {
     "data": {
      "application/javascript": "\n//We have an array made for you, but something's off...\nlet desserts = [\"lemon\",\"delete1\",\"ice cream\",\"chocolate cake\",\"key lime pie\",\"delete2\"];\n//We need to get rid of the elements labeled delete1 and delete2!\ndesserts.pop();//which command gets rid of the last element in the array?\ndesserts.splice(1,1);//which command will delete the delete 1 element and how do you use it??\n\n//now that that's done... a lemon isn't a dessert unless you're weird... maybe change it to a lemon-themed dessert?\ndesserts[0]=\"lemon tart\";\n\n//hint for the previous 2 fill-in-the-blanks: the indexing starts at 0\n\n//okay okay, you've proven your skills... now all that's left is to print the list!\nconsole.log(desserts)\n",
      "text/plain": [
       "<IPython.core.display.Javascript object>"
      ]
     },
     "metadata": {},
     "output_type": "display_data"
    }
   ],
   "source": [
    "%%js\n",
    "\n",
    "//We have an array made for you, but something's off...\n",
    "let desserts = [\"lemon\",\"delete1\",\"ice cream\",\"chocolate cake\",\"key lime pie\",\"delete2\"];\n",
    "//We need to get rid of the elements labeled delete1 and delete2!\n",
    "desserts.pop();//which command gets rid of the last element in the array?\n",
    "desserts.splice(1,1);//which command will delete the delete 1 element and how do you use it??\n",
    "\n",
    "//now that that's done... a lemon isn't a dessert unless you're weird... maybe change it to a lemon-themed dessert?\n",
    "desserts[0]=\"lemon tart\";\n",
    "\n",
    "//hint for the previous 2 fill-in-the-blanks: the indexing starts at 0\n",
    "\n",
    "//okay okay, you've proven your skills... now all that's left is to print the list!\n",
    "console.log(desserts)"
   ]
  },
  {
   "cell_type": "markdown",
   "metadata": {},
   "source": [
    "# Lesson 2 Homework - Part 1"
   ]
  },
  {
   "cell_type": "code",
   "execution_count": 12,
   "metadata": {
    "vscode": {
     "languageId": "javascript"
    }
   },
   "outputs": [
    {
     "data": {
      "application/javascript": "//Okay, this will be a little tougher. We can put your knowledge of the second lesson to the test. (ignore that this concept is easy compared to the other lessons lol)\n\n//I want you to create a list of whatever you'd like (integers or strings, it really doesn't matter) and have a repeating element in it. ex: let list = [1,2,3,1,4]; \n\nlet sports = [\"basketball\", \"Golf\", \"Tennis\", \"Tabletennis\", \"Golf\", \"Baseball\", \"Soccer\"]\n\n//Ok, now I know this is about arrays, but could you make a for loop to iterate through each element and print the index of them?\n\nfor (let i = 0; i < sports.length; i++) {\n  console.log(`Index of '${sports[i]}': ${i}`);\n}\n\n//Wait! You remember that repeating element I made you put in your list? Create a separate command outside of the loop to print the index of the last occurring repeated value.\nlet lastRepeatedIndex = sports.lastIndexOf(\"Golf\");\nconsole.log(`The index of the last occurrence of the repeated value 'Golf' is: ${lastRepeatedIndex}`);\n\n\n",
      "text/plain": [
       "<IPython.core.display.Javascript object>"
      ]
     },
     "metadata": {},
     "output_type": "display_data"
    }
   ],
   "source": [
    "%%js\n",
    "//Okay, this will be a little tougher. We can put your knowledge of the second lesson to the test. (ignore that this concept is easy compared to the other lessons lol)\n",
    "\n",
    "//I want you to create a list of whatever you'd like (integers or strings, it really doesn't matter) and have a repeating element in it. ex: let list = [1,2,3,1,4]; \n",
    "\n",
    "let sports = [\"basketball\", \"Golf\", \"Tennis\", \"Tabletennis\", \"Golf\", \"Baseball\", \"Soccer\"]\n",
    "\n",
    "//Ok, now I know this is about arrays, but could you make a for loop to iterate through each element and print the index of them?\n",
    "\n",
    "for (let i = 0; i < sports.length; i++) {\n",
    "  console.log(`Index of '${sports[i]}': ${i}`);\n",
    "}\n",
    "\n",
    "//Wait! You remember that repeating element I made you put in your list? Create a separate command outside of the loop to print the index of the last occurring repeated value.\n",
    "let lastRepeatedIndex = sports.lastIndexOf(\"Golf\");\n",
    "console.log(`The index of the last occurrence of the repeated value 'Golf' is: ${lastRepeatedIndex}`);\n",
    "\n",
    "\n"
   ]
  },
  {
   "cell_type": "markdown",
   "metadata": {},
   "source": [
    "# Lesson 2 Homework - Part 2"
   ]
  },
  {
   "cell_type": "code",
   "execution_count": 15,
   "metadata": {
    "vscode": {
     "languageId": "javascript"
    }
   },
   "outputs": [
    {
     "data": {
      "application/javascript": "//This is the fairly simple final problem of arrays!\n\n//Create a list here that includes whatever you'd like once again.\nlet instruments = [\"Guitar\", \"Bassguitar\", \"Drum\", \"Piano\", \"Flute\"]\n\n\n//Now, print the length of your list! Tip: you don't need to create a variable for the list's length! Just console.log the list.length; it saves you a line :D\nconsole.log(\"Length of the list:\", instruments.length);\n\n\n//Finally, create a variable to check if a value in your list is included in the list and print that variable you created (it should output true or false)\nlet isIncluded = instruments.includes(\"Piano\");\nconsole.log(\"Is 'Piano' included in the list?\", isIncluded);\n",
      "text/plain": [
       "<IPython.core.display.Javascript object>"
      ]
     },
     "metadata": {},
     "output_type": "display_data"
    }
   ],
   "source": [
    "%%js\n",
    "//This is the fairly simple final problem of arrays!\n",
    "\n",
    "//Create a list here that includes whatever you'd like once again.\n",
    "let instruments = [\"Guitar\", \"Bassguitar\", \"Drum\", \"Piano\", \"Flute\"]\n",
    "\n",
    "\n",
    "//Now, print the length of your list! Tip: you don't need to create a variable for the list's length! Just console.log the list.length; it saves you a line :D\n",
    "console.log(\"Length of the list:\", instruments.length);\n",
    "\n",
    "\n",
    "//Finally, create a variable to check if a value in your list is included in the list and print that variable you created (it should output true or false)\n",
    "let isIncluded = instruments.includes(\"Piano\");\n",
    "console.log(\"Is 'Piano' included in the list?\", isIncluded);\n"
   ]
  },
  {
   "cell_type": "markdown",
   "metadata": {
    "vscode": {
     "languageId": "javascript"
    }
   },
   "source": [
    "You're done with your homework!!"
   ]
  }
 ],
 "metadata": {
  "kernelspec": {
   "display_name": "Python 3",
   "language": "python",
   "name": "python3"
  },
  "language_info": {
   "codemirror_mode": {
    "name": "ipython",
    "version": 3
   },
   "file_extension": ".py",
   "mimetype": "text/x-python",
   "name": "python",
   "nbconvert_exporter": "python",
   "pygments_lexer": "ipython3",
   "version": "3.12.5"
  }
 },
 "nbformat": 4,
 "nbformat_minor": 2
}
