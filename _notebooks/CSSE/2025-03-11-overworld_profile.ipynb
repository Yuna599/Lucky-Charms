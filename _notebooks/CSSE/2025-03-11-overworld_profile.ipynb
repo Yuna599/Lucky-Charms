{
 "cells": [
  {
   "cell_type": "raw",
   "metadata": {},
   "source": [
    "---\n",
    "layout: post\n",
    "categories: [CSP Sprint Objectives]\n",
    "title: Overworld Level Profiles \n",
    "description:  Programmer Profiles \n",
    "type: issues \n",
    "courses: { csse: {week: 0} }\n",
    "comments: true\n",
    "permalink: /overworld/profile\n",
    "---"
   ]
  },
  {
   "cell_type": "markdown",
   "metadata": {},
   "source": [
    "# 🔗 Important Links 🔗\n",
    "\n",
    "> Check out the key resources for the team!\n",
    "\n",
    "- **🌍 GitHub Organization**: [TeamOverworld](https://github.com/TeamOverworld)\n",
    "- **📝 Task Board**: [Team Planning](https://github.com/orgs/TeamOverworld/projects/1/views/1?system_template=team_planning)\n",
    "- **🐞 Issues**: [TeamOverworld Issues](https://github.com/TeamOverworld/Issues/issues)\n",
    "- **📅 Plans**: [Portfolio 2025 - Overworld Plan]({{site.baseurl}}/plan)\n",
    "\n"
   ]
  },
  {
   "cell_type": "markdown",
   "metadata": {},
   "source": [
    "# 🏆 Meet the Team 🏆\n",
    "\n",
    "> Click on each member's name to visit their GitHub profile!\n",
    "\n",
    "| Member | GitHub Profile |\n",
    "|--------|----------------|\n",
    "| <span style=\"color:#4caf50;\">**🟩 Yuna**</span>      | [Yuna599](https://github.com/Yuna599) |\n",
    "| <span style=\"color:#ffeb3b;\">**🟨 Namira**</span>    | [catrasw1f3](https://github.com/catrasw1f3) |\n",
    "| <span style=\"color:#2196f3;\">**🟦 Hope**</span>      | [McHopiee](https://github.com/McHopiee) |\n",
    "| <span style=\"color:#999999;\">**🟥 Nico**</span>      | [lowmonkey4586](https://github.com/Nico055O) |\n",
    "| <span style=\"color:#9c27b0;\">**🟪 Tanisha**</span>  | [tanishapatil1234](https://github.com/tanishapatil1234) |\n",
    "| <span style=\"color:#4caf50;\">**🟩 Shayan**</span>    | [Shayanb1](https://github.com/Shayanb1) |\n",
    "| <span style=\"color:#2196f3;\">**🟦 Paul**</span>      | [GitHub Profile](#) <!-- Replace with Paul's GitHub link --> |\n",
    "\n",
    "---"
   ]
  }
 ],
 "metadata": {
  "language_info": {
   "name": "python"
  }
 },
 "nbformat": 4,
 "nbformat_minor": 2
}
