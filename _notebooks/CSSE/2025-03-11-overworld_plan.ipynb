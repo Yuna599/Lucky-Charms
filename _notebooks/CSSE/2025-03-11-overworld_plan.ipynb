{
 "cells": [
  {
   "cell_type": "raw",
   "metadata": {},
   "source": [
    "---\n",
    "layout: post\n",
    "categories: [CSP Sprint Objectives]\n",
    "title: Overworld Level Plan  \n",
    "description:  Software Ideation, Design, and Development for Overworld Level\n",
    "type: issues \n",
    "courses: { csse: {week: 0} }\n",
    "comments: true\n",
    "permalink: /overworld/plan\n",
    "---"
   ]
  },
  {
   "cell_type": "markdown",
   "metadata": {},
   "source": [
    "<img width=\"650\" alt=\"Image\" src=\"https://github.com/user-attachments/assets/667f24f2-f400-4b5e-b9e7-e62b60cd9643\" />"
   ]
  },
  {
   "cell_type": "markdown",
   "metadata": {},
   "source": [
    "## Background \n",
    "\n",
    "![Image](https://github.com/user-attachments/assets/ba63db2c-2e78-4763-a62b-38c93b7a4bd5) "
   ]
  },
  {
   "cell_type": "markdown",
   "metadata": {},
   "source": [
    "## Start\n",
    "\n",
    "The player will start the game in the overworld. In the start of the game, the player will swtich through the *rules of the over world* and learn about the story of the game. Then transition to the player select game where the player will select either steve or alex to play. In the overworld the player will have to navigate through the unperidicable terrain of the overworld. While also avoiding the creepers that will attack the player.\n",
    "\n",
    "#### Point System\n",
    "\n",
    "The points will work where the player will complete tasks/quests for the NPC's. The NPC's will generate a random quiz that the player will have to complete as the task. The tasks are completed by the player and will recive rewards depending on how well the player does. The higher the score, the higher the reward is. The points will be emeralds that the player will eventually use to buy the and recieve a flint and steel (key) from a village NPC. This is the object that will let the player light the nether portal and move onto the next level. \n",
    "\n",
    "#### Nether Portal:\n",
    "![Image](https://github.com/user-attachments/assets/11f31c91-bc63-4c6f-b5f5-56463b316eaf)\n",
    "\n",
    "\n",
    "#### RPG + Platfromer Game\n",
    "\n",
    "After the transition screen when the player selects their character, the player will be transported to the RPG game. In the RPG, there will be a creeper (enemy) for the player to try an avoid. There will also be the 1st NPC villager to give the player the option to be quized for more points or buy the flint and steel. The player will first have to be quized for more points, however this will not be enough for the flint and steel (key) to escape. The player will need to climb the mountaints to find the other NPC. This is where the platfromer game aspect will be played with the character navigating the mountainous terrain to find the pig NPC. There will also have a ranomdly generated mountain joke, and a randomly generated quiz to give the player the rest of the points for the game. The player will then exit the mountains by going back to where they came from, and go back to the RPG. Finally they will purchase the the flint and steel (key) and escape the overworld. Now the player will transport to the next level. \n",
    "\n",
    "#### Points - Emeralds\n",
    "\n",
    "With the villager NPC, the player can earn a max of 25 emeralds per quiz done. However the key to escape the level will be 2025 emeralds. The player will earn the last 2000 points from the Pig NPC in the mountains where the pig's quiz is worth up to 10000 points with 5 questions being each 2000 points. This will help the player to earn enough points by setting an achievable bar so that the player may escape. \n",
    "\n",
    "#### NPC Quizes\n",
    "\n",
    "There are 4 quizzes that the NPC could have ranging from CSSE to Minecraft knowledge. Each quiz has 4 questions and 4 possible answers.\n",
    "<a href=\"https://docs.google.com/document/d/1g2q7jx8n-jZv7AFLWqyAb-72eoyElju4LSUfMd4Jth8/edit?usp=sharing\">\n",
    "\n",
    "##### Link to Quiz\n",
    "</a>"
   ]
  }
 ],
 "metadata": {
  "language_info": {
   "name": "python"
  }
 },
 "nbformat": 4,
 "nbformat_minor": 2
}
