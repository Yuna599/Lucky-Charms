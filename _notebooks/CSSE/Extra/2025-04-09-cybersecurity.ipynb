{
 "cells": [
  {
   "cell_type": "code",
   "execution_count": null,
   "metadata": {
    "vscode": {
     "languageId": "yaml"
    }
   },
   "outputs": [],
   "source": [
    "---\n",
    "layout: post\n",
    "title: After Cybersecurity lessons \n",
    "description: Cybersecurity Takeaways after the lesson from the expert panels\n",
    "categories: [Extra lesson Takeaways]\n",
    "permalink: /Cybersecurity\n",
    "author: Yuna Lee\n",
    "toc: true\n",
    "comments: true\n",
    "---"
   ]
  },
  {
   "cell_type": "markdown",
   "metadata": {},
   "source": [
    "## Takeaways \n",
    "What I learned: \n",
    "\n",
    "#### Part 1: \n",
    "- Cybersecurity is important because hackers steals and uses the imformations that people uses in different companies. By having cybersecurity, you can keep people from getting informations released to outside places. There are lots of real-world threats these days from the hackers. - zero day: hacker might make a pull of a coding lines that might hack all the computers that has axcess to the pull.\n",
    "\n",
    "#### Part 2: \n",
    "- I wasn't sure If I'm actually going to do computer later on but one of the panels said that he still doesn't like computer but he got along with it which gave me hope. \n",
    "- In order to be a cybersecurity person, it is best to start with a background in IT since what cybersecurity does is with computer. It is better to learn from an environment where they push you to learn new things by yourself. \n",
    "\n",
    "#### Part 3:\n",
    "- the future of cybersecurity is specializations, people who are specialized in AI and who can think with more diversity. Since the AI is taking a huge part in the future, you need special aspects that would highlight the skills you have. One of the key part in success is also by using AIs. \n",
    "- In the future, more and more people would hire people in cybersecurity because every year, there are more and more companies who will want to be aware of the hackers and keep their informations. \n",
    "- It is important to have a skilled people around me to learn more and more. This would be the same with every job, but the people who are the best in specific parts are who keep on doing researches and learning new facts. \n",
    "\n",
    "#### Q&A:\n",
    "- Working together in a group is hard, but very important and very valuable because it helps you get along with people and work with people which is important because in the future, you might have worse people that you have to work with. \n",
    "- if there is a zero data released, it takes them a minute to use them and make them function, but it depends on the size and how much the cybersecurity there is. \n"
   ]
  },
  {
   "cell_type": "markdown",
   "metadata": {},
   "source": [
    "## Image\n",
    "as a proof...\n",
    "\n",
    "<img width=\"320\" alt=\"Image\" src=\"https://github.com/user-attachments/assets/1c8ce7d9-c36f-48ea-8a72-0767e967269b\" />"
   ]
  }
 ],
 "metadata": {
  "language_info": {
   "name": "python"
  }
 },
 "nbformat": 4,
 "nbformat_minor": 2
}
