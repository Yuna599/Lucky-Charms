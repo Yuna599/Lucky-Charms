{
 "cells": [
  {
   "cell_type": "code",
   "execution_count": null,
   "metadata": {
    "vscode": {
     "languageId": "yaml"
    }
   },
   "outputs": [],
   "source": [
    "---\n",
    "layout: post\n",
    "title: Final Part 2\n",
    "description: 3 or more RPG game tinkers\n",
    "categories: [CSSE JavaScript Fundamentals]\n",
    "permalink: /Finals2\n",
    "author: Yuna Lee\n",
    "menu: nav/Finals.html\n",
    "toc: true\n",
    "comments: true\n",
    "---"
   ]
  },
  {
   "cell_type": "markdown",
   "metadata": {},
   "source": [
    "RPG Game Tinkers (3 or more)"
   ]
  },
  {
   "cell_type": "markdown",
   "metadata": {},
   "source": []
  },
  {
   "cell_type": "markdown",
   "metadata": {},
   "source": [
    "##### Tinker 1:\n",
    "One of the tinkers that we planned was the sound of pulling out the sword from the stone.\n",
    "\n",
    "##### Tinker 2: \n",
    "Another tinker that we planned was to be able to actually have a conversation with the character in the middle.\n",
    "\n",
    "##### Tinker 3:\n",
    "The last tinker that we thaught of making was to create a button on the game screen that directly changes the background"
   ]
  }
 ],
 "metadata": {
  "language_info": {
   "name": "python"
  }
 },
 "nbformat": 4,
 "nbformat_minor": 2
}
