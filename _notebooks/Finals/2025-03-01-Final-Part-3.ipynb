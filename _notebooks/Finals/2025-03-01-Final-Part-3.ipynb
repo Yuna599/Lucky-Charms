{
 "cells": [
  {
   "cell_type": "code",
   "execution_count": null,
   "metadata": {
    "vscode": {
     "languageId": "yaml"
    }
   },
   "outputs": [],
   "source": [
    "---\n",
    "layout: post\n",
    "title: Final Part 3\n",
    "description: RPG game tinkers write up, reflection of code understanding\n",
    "categories: [CSSE JavaScript Fundamentals]\n",
    "permalink: /Finals3\n",
    "author: Yuna Lee\n",
    "menu: nav/Finals.html\n",
    "toc: true\n",
    "comments: true\n",
    "---"
   ]
  },
  {
   "cell_type": "markdown",
   "metadata": {},
   "source": [
    "RPG Game Tinkers write up, Jupyter notebook style reflection on of code understanding, also drawIO diagram should be included."
   ]
  },
  {
   "cell_type": "markdown",
   "metadata": {},
   "source": [
    "- Write the tinkers and create the drawIO diagram"
   ]
  },
  {
   "cell_type": "markdown",
   "metadata": {},
   "source": [
    "Tinker 1, To make the sound of the sword coming out, I put this in the GameLevelDesert.js:\n",
    "\n",
    "\n"
   ]
  },
  {
   "cell_type": "code",
   "execution_count": null,
   "metadata": {
    "vscode": {
     "languageId": "javascript"
    }
   },
   "outputs": [],
   "source": [
    "const audio = new Audio(path + '/assets/audio/sword.mp3'); "
   ]
  },
  {
   "cell_type": "markdown",
   "metadata": {},
   "source": [
    "then I put it this in the reaction of the character to play the sound after saying who they are: "
   ]
  },
  {
   "cell_type": "code",
   "execution_count": null,
   "metadata": {
    "vscode": {
     "languageId": "javascript"
    }
   },
   "outputs": [],
   "source": [
    "audio.play();"
   ]
  },
  {
   "cell_type": "markdown",
   "metadata": {},
   "source": [
    "Tinker 2, to make the conversation with the sword, I first made a character without the the actual image and place it infront of the sword, so that it seems like the sword is the one who is talking, then I put in these lines of code to make the conversation happen:\n"
   ]
  },
  {
   "cell_type": "code",
   "execution_count": null,
   "metadata": {
    "vscode": {
     "languageId": "javascript"
    }
   },
   "outputs": [],
   "source": [
    "startConversation();\n",
    "        ;\n",
    "        \n",
    "        function startConversation() {\n",
    "            if (!document.getElementById(\"dialogContainer\")) {\n",
    "                createDialogBox();\n",
    "            } else {\n",
    "                updateDialog(\"Hello again! Do you still need my help?\");\n",
    "            }\n",
    "        }\n",
    "        \n",
    "        function createDialogBox() {\n",
    "            const dialogContainer = document.createElement(\"div\");\n",
    "            dialogContainer.id = \"dialogContainer\";\n",
    "        \n",
    "            Object.assign(dialogContainer.style, {\n",
    "                position: \"absolute\",\n",
    "                bottom: \"20px\",\n",
    "                left: \"50%\",\n",
    "                transform: \"translateX(-50%)\",\n",
    "                width: \"400px\",\n",
    "                backgroundColor: \"white\",\n",
    "                border: \"2px solid black\",\n",
    "                padding: \"10px\",\n",
    "                borderRadius: \"10px\",\n",
    "                boxShadow: \"0px 4px 6px rgba(0,0,0,0.3)\",\n",
    "                zIndex: \"1000\",\n",
    "                textAlign: \"center\"\n",
    "            });\n",
    "        \n",
    "            const dialogText = document.createElement(\"p\");\n",
    "            dialogText.id = \"dialogText\";\n",
    "            dialogText.innerText = sprite_greet_tux;\n",
    "            dialogContainer.appendChild(dialogText);\n",
    "        \n",
    "            const buttonContainer = document.createElement(\"div\");\n",
    "            buttonContainer.id = \"buttonContainer\";\n",
    "            dialogContainer.appendChild(buttonContainer);\n",
    "        \n",
    "            document.body.appendChild(dialogContainer);\n",
    "        \n",
    "            updateChoices([\n",
    "                { text: \"How can I pull it out?\", next: \"pullSword\" },\n",
    "                { text: \"Who are you?\", next: \"whoAreYou\" }\n",
    "            ]);\n",
    "        }\n",
    "        \n",
    "        function updateDialog(newText) {\n",
    "            document.getElementById(\"dialogText\").innerText = newText;\n",
    "        }\n",
    "        \n",
    "        function updateChoices(choices) {\n",
    "            const buttonContainer = document.getElementById(\"buttonContainer\");\n",
    "            buttonContainer.innerHTML = \"\"; \n",
    "        \n",
    "            choices.forEach(choice => {\n",
    "                const button = document.createElement(\"button\");\n",
    "                button.innerText = choice.text;\n",
    "                button.style.margin = \"5px\";\n",
    "                button.style.padding = \"10px\";\n",
    "                button.style.border = \"none\";\n",
    "                button.style.cursor = \"pointer\";\n",
    "                button.style.backgroundColor = \"black\";\n",
    "                button.style.color = \"white\";\n",
    "                button.style.borderRadius = \"5px\";\n",
    "        \n",
    "                button.addEventListener(\"click\", () => handleChoice(choice.next));\n",
    "                buttonContainer.appendChild(button);\n",
    "            });\n",
    "        }\n",
    "        \n",
    "        function handleChoice(next) {\n",
    "            if (next === \"pullSword\") {\n",
    "                updateDialog(\"The sword is stuck! You need strength and courage.\");\n",
    "                updateChoices([\n",
    "                    { text: \"Where can I find strength?\", next: \"findStrength\" },\n",
    "                    { text: \"Where can I find courage?\", next: \"findCourage\" }\n",
    "                ]);\n",
    "            } else if (next === \"whoAreYou\") {\n",
    "                updateDialog(\"I am Doggie, the Guardian of the Sword!\");\n",
    "                updateChoices([\n",
    "                    { text: \"Can you help me?\", next: \"pullSword\" },\n",
    "                    { text: \"Why do you guard the sword?\", next: \"guardSword\" }\n",
    "                ]);\n",
    "            } else if (next === \"findStrength\") {\n",
    "                updateDialog(\"You can train at the gym to build strength.\");\n",
    "                updateChoices([\n",
    "                    { text: \"Take me there!\", next: \"goToGym\" },\n",
    "                    { text: \"Thanks, Doggie!\", next: \"end\" }\n",
    "                ]);\n",
    "            } else if (next === \"findCourage\") {\n",
    "                updateDialog(\"Courage comes from within, and facing your fears.\");\n",
    "                updateChoices([\n",
    "                    { text: \"I'm ready to pull the sword!\", next: \"pullSword\" },\n",
    "                    { text: \"I need more time.\", next: \"end\" }\n",
    "                ]);\n",
    "            } else if (next === \"guardSword\") {\n",
    "                updateDialog(\"This sword holds great power. It must be wielded by the worthy.\");\n",
    "                updateChoices([\n",
    "                    { text: \"Am I worthy?\", next: \"pullSword\" },\n",
    "                    { text: \"Who was the last person to try?\", next: \"lastWarrior\" }\n",
    "                ]);\n",
    "            } else if (next === \"lastWarrior\") {\n",
    "                updateDialog(\"The last warrior failed. He lacked patience.\");\n",
    "                updateChoices([\n",
    "                    { text: \"I won't fail!\", next: \"pullSword\" },\n",
    "                    { text: \"This is too much pressure!\", next: \"end\" }\n",
    "                ]);\n",
    "            } else if (next === \"goToGym\") {\n",
    "                updateDialog(\"Let's go! Follow me!\");\n",
    "        \n",
    "                setTimeout(() => {\n",
    "                    toggleDesertImage(); // Instantly change the background to the gym\n",
    "                    setTimeout(() => {\n",
    "                        document.getElementById(\"dialogContainer\").remove();\n",
    "                    }, 1000);\n",
    "                }, 1000);\n",
    "            } else if (next === \"end\") {\n",
    "                updateDialog(\"Come back if you need help!\");\n",
    "                setTimeout(() => {\n",
    "                    document.getElementById(\"dialogContainer\").remove();\n",
    "                }, 1500);\n",
    "                \n",
    "            }\n",
    "        }\n",
    "        }}\n",
    "         // }\n",
    "         // };\n"
   ]
  },
  {
   "cell_type": "markdown",
   "metadata": {},
   "source": [
    "For my last tinker, In gamecontrol.js, I put this code, so that as soon as the game starts, the message pops up:"
   ]
  },
  {
   "cell_type": "code",
   "execution_count": null,
   "metadata": {
    "vscode": {
     "languageId": "javascript"
    }
   },
   "outputs": [],
   "source": [
    "alert(\"Hello, I have just seen a Kid pull that sword out. Then after, I have attempted to pull it out myself. But I'm too weak to pull the sword out of that sword. Can you help me buff up and get stronger enough to pull out that sword? First, talk to Doggie!\")\n"
   ]
  }
 ],
 "metadata": {
  "language_info": {
   "name": "python"
  }
 },
 "nbformat": 4,
 "nbformat_minor": 2
}
