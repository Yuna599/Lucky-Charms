{
 "cells": [
  {
   "cell_type": "code",
   "execution_count": null,
   "metadata": {
    "vscode": {
     "languageId": "yaml"
    }
   },
   "outputs": [],
   "source": [
    "---\n",
    "layout: post\n",
    "title: Final Part 3\n",
    "description: RPG game tinkers write up, reflection of code understanding\n",
    "categories: [CSSE JavaScript Fundamentals]\n",
    "permalink: /Finals3\n",
    "author: Yuna Lee\n",
    "menu: nav/Finals.html\n",
    "toc: true\n",
    "comments: true\n",
    "---"
   ]
  },
  {
   "cell_type": "markdown",
   "metadata": {},
   "source": [
    "RPG Game Tinkers write up, Jupyter notebook style reflection on of code understanding, also drawIO diagram should be included."
   ]
  },
  {
   "cell_type": "markdown",
   "metadata": {},
   "source": [
    "- Write the tinkers and create the drawIO diagram"
   ]
  }
 ],
 "metadata": {
  "language_info": {
   "name": "python"
  }
 },
 "nbformat": 4,
 "nbformat_minor": 2
}
