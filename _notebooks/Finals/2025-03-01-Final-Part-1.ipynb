{
 "cells": [
  {
   "cell_type": "code",
   "execution_count": null,
   "metadata": {
    "vscode": {
     "languageId": "yaml"
    }
   },
   "outputs": [],
   "source": [
    "---\n",
    "layout: post\n",
    "title: Final Part 1\n",
    "description: 5 things I learned during the trimester\n",
    "categories: [CSSE JavaScript Fundamentals]\n",
    "permalink: /Finals1\n",
    "author: Yuna Lee\n",
    "menu: nav/Finals.html\n",
    "toc: true\n",
    "comments: true\n",
    "---"
   ]
  },
  {
   "cell_type": "markdown",
   "metadata": {},
   "source": [
    " 1. #### What I overall learned in this class:\n",
    " I learned the basics of Coding, how to start off by creating a github repository, then bringing it on vs code to work on the actual coding.\n",
    "\n",
    " 2. #### The basics I learned in this class: \n",
    " I learned the various types of files, html, ipynb, json, js, and md, and how they can be used for different purposes. By learning about these types of files, I've learned the techniques for javascript. For example, Arrays, Booleans, Classes and Methods, Conditional statements, Iteration and 2 others. Where I later used these techniques to develop the RPG game. \n",
    "\n",
    "3. #### Things I learned from teaching lessons:\n",
    "By teaching other students one of the techniques of the javascript language, I was able to understand better, using this better understanding of that technique to help other students. Another thing I learned a lot from teaching is creating and using the ipynb file. By creating lessons in ipynb files, I was able to understand the usage of code and markdown cells. During this, I was also able to understand how the navigation bars were created and was applied to the different files.\n",
    "\n",
    "![alt text](<../../images/Pasted Graphic 1.png>)\n",
    "\n",
    "4. #### Things I learned about github: \n",
    "Through the different projects and tasks in this class, I learned how to debug some of the basic errors and fix the failed commits. Also by doing the different tasks, I've learned what pull requests are for and so does the discussions in the github bars:\n",
    "\n",
    "![alt text](<../../images/Pasted Graphic.png>)\n",
    "\n",
    "5. #### Things I learned from making the RPG game: \n",
    "By creating a new game with a certain help, even though it was very difficult, I was able to learn a lot with it since it helped me understand the game and functions better by going through each lines of coding."
   ]
  }
 ],
 "metadata": {
  "language_info": {
   "name": "python"
  }
 },
 "nbformat": 4,
 "nbformat_minor": 2
}
