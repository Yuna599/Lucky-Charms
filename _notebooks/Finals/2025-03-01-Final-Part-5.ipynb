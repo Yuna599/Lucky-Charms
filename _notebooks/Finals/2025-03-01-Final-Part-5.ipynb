{
 "cells": [
  {
   "cell_type": "code",
   "execution_count": null,
   "metadata": {
    "vscode": {
     "languageId": "yaml"
    }
   },
   "outputs": [],
   "source": [
    "---\n",
    "layout: post\n",
    "title: Final Part 5\n",
    "description: Retrospective\n",
    "categories: [CSSE JavaScript Fundamentals]\n",
    "permalink: /Finals5\n",
    "author: Yuna Lee\n",
    "menu: nav/Finals.html\n",
    "toc: true\n",
    "comments: true\n",
    "---"
   ]
  },
  {
   "cell_type": "markdown",
   "metadata": {},
   "source": [
    "- The 5th point comes from ability to impress me through reflection and looking forward (Retrospective).\n",
    "- Taking extreme interests in other projects and people, ie N@tM reviews, chronicle the event for you, personalization\n",
    "- Thinking what you could do next in CompSci: CSSE2, future interests, classes, college, internships, career.\n",
    "- Reflection on individual strengths, weaknesses\n",
    "- Reflection on project by creating next steps plans, strengths, weaknesses\n",
    "- Sending summary of what your pair will be talking about 24 hours in advance of Live review in multi-person DM (you, pair, Teacher, TA).\n",
    "- Include in summary honest self grade assessment on point related topics, including reasoning.\n",
    "- Being able to highlight all 5 points, as a pair in 4 minutes of Live Review."
   ]
  },
  {
   "cell_type": "markdown",
   "metadata": {},
   "source": [
    "##### Reflection:\n",
    "- Even though I wasn't able to finish the game, I've learned different aspects of game and how games are made. \n",
    "    - To improve Myself, I should try making a game even if it isn't for a grade since it would really help me understand and get used to javascript.\n",
    "- In the Night At the Museum, by looking at other peoples' codes and ideas of the different games, I was able to improve my game better.\n",
    "- Since one of my strengths are to be able to use the aspects that I learned very effectively, I should search up all the things I don't know or understand to actually make me used to using the aspects.\n",
    "- Some of the weaknesses that I have is having a hard time to debug the errors and finding out what each errors are which is essential in coding. \n",
    "    - What I could do to improve this is by doing more and more projects\n",
    "- Some of my after plans are to take CSEE 2, helping myself to understand the concepts better than in CSSE 1. \n",
    "    - Things I could do to make that happen is by more actively working in the class, making a list of what I should do in the next class time. \n",
    "    - I'm sure this would help me a lot because there would be less time that I would waste. \n",
    "- By learning how to code and the details of coding, I would later be able to use it in the future for colleges and jobs.\n",
    "    - Even if I don't attempt for a computer science major in college, It would help me a lot in any computer related majors becuase It develops my understanding of computer itself and how the codings work.\n",
    "#### Self Grade: \n",
    "I would give myself 3/5 on my final grade because even though the game is the most important part of the finals, I wasn't able to finish or even make the game work. However I used all my class times and all my extra times after school to make the game work. I'm sure there are evidences that back up how much I have tried. The whole point of the class is for me to learn and understand the concepts, and I was able to understand the functions of each code, knowing how the game works\n",
    "\n",
    "Some reasons why I think I wasn't able to finish the game is because for the first 1 week, I had to make the template game that the teacher had made work on my repository. The game wasn't popping up on my website so I had to ask people in my table and work on it after school too. I didn't know why it wasn't working even though I copied all the things I needed inorder for the game to work. \n",
    "So starting from week 2, I chose to edit the game files first before making it work. However after that week, the website had broke, so I had to make it rework, starting all over by copying the teacher's game template. At that time, I was able to make the game function, but when I was attempting to change the character that moves (a.k.a the chillguy) into Ali, our game's main character, the sprite sheet didn't show. And while we were trying to fix it, our website broke again, and that was when Night At the Museum was happening. This made us harder to get feedbacks from people. During the weekends, I worked on it boldly and it still didn't work. \n",
    "\n",
    "\n"
   ]
  }
 ],
 "metadata": {
  "language_info": {
   "name": "python"
  }
 },
 "nbformat": 4,
 "nbformat_minor": 2
}
