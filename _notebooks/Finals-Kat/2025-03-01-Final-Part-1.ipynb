{
 "cells": [
  {
   "cell_type": "code",
   "execution_count": null,
   "metadata": {
    "vscode": {
     "languageId": "yaml"
    }
   },
   "outputs": [],
   "source": [
    "---\n",
    "layout: post\n",
    "title: Final 1\n",
    "description: 5 things I learned during the trimester\n",
    "categories: [CSSE JavaScript Fundamentals]\n",
    "permalink: /Final1\n",
    "author: Katherine Law\n",
    "menu: nav/Final.html\n",
    "toc: true\n",
    "comments: true\n",
    "---"
   ]
  },
  {
   "cell_type": "markdown",
   "metadata": {},
   "source": [
    "## 5 things I learned over this tri!\n",
    "\n",
    "1. I learned how to work together as a team. A lot of work throughout this tri was team or partner projects and I learned that in order for things to go smoother and easier we need to communicate and collaborate well as a team. \n",
    "\n",
    "2. During the lessons that we taught I also learned a lot about my own lesson, conditionals, because I was able to research it alot by myself. But I also learned alot about other lessons like nested conditionals, booleans and arrays.\n",
    "\n",
    "3. I also learned that I need to have a good time managment. Alot of the times I would cram my projects until the very last minute and a lot of problems came up that I couldve fixed before if I was more careful. \n",
    "\n",
    "4. I learned how sprites work. I had a very fun time drawing the sprites because I got to see a more creative and artistic side of computer science and not the very techinical part. I learned that you have to draw each side of the npc so it will be able to move in the game.\n",
    "\n",
    "5. I also learned how to use other peoples feedback. During Night at the Museum we got lots of feedback on our game and how to improve it but at first I took it at insults. Now, I learned that feedback is meant to be helpful and help our game improve."
   ]
  }
 ],
 "metadata": {
  "language_info": {
   "name": "python"
  }
 },
 "nbformat": 4,
 "nbformat_minor": 2
}
