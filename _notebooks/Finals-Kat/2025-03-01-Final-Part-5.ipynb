{
 "cells": [
  {
   "cell_type": "code",
   "execution_count": null,
   "metadata": {
    "vscode": {
     "languageId": "yaml"
    }
   },
   "outputs": [],
   "source": [
    "---\n",
    "layout: post\n",
    "title: Final part 5\n",
    "description: reflection\n",
    "categories: [CSSE JavaScript Fundamentals]\n",
    "permalink: /Final1\n",
    "author: Katherine Law\n",
    "menu: nav/Final.html\n",
    "toc: true\n",
    "comments: true\n",
    "---"
   ]
  },
  {
   "cell_type": "markdown",
   "metadata": {},
   "source": [
    "- The 5th point comes from ability to impress me through reflection and looking forward (Retrospective).\n",
    "- Taking extreme interests in other projects and people, ie N@tM reviews, chronicle the event for you, personalization\n",
    "- Thinking what you could do next in CompSci: CSSE2, future interests, classes, college, internships, career.\n",
    "- Reflection on individual strengths, weaknesses\n",
    "- Reflection on project by creating next steps plans, strengths, weaknesses\n",
    "- Sending summary of what your pair will be talking about 24 hours in advance of Live review in multi-person DM (you, pair, Teacher, TA).\n",
    "- Include in summary honest self grade assessment on point related topics, including reasoning.\n",
    "- Being able to highlight all 5 points, as a pair in 4 minutes of Live Review."
   ]
  },
  {
   "cell_type": "markdown",
   "metadata": {},
   "source": [
    "##### Reflection:\n",
    "\n",
    "- During the night at musueum, I looked at many games but one that I really liked was Jims and Advaits. I liked how they made voice lines so I also implemented that into my own game. I also \n",
    " thought that it was cool how he had background music so I figured out how to add that into my game.\n",
    "\n",
    " -Continuing on in computer science, I plan to take CSSE2 to further my learning about computer science. I also want to keep on making games after this class ends. I feel like our game was good, but there are still more ways to improved and make it more advanced and technical such as making neater and better sprites. \n",
    "\n",
    "- Strengths: I am good at designing the creative and artistic part of the game like making the npc and sprites, creating the music, buttons.\n",
    "\n",
    "- Weakness: I need to work on learning what to do when there are errors in the code. Most of the times, the code will tell me what problem I did wrong but I did not understand how to fix it. \n",
    "\n",
    "-Self grade: I would give myself a 3/5 because I feel like there are still may ways we can improve on this game. At first, we wanted the characters to transport to another page that was a gym but we had trouble with that so we didn't keep it in the plan. I still want to work on this game outside of this class now that its over and see how it will end up. \n"
   ]
  },
  {
   "cell_type": "markdown",
   "metadata": {},
   "source": []
  }
 ],
 "metadata": {
  "language_info": {
   "name": "python"
  }
 },
 "nbformat": 4,
 "nbformat_minor": 2
}
