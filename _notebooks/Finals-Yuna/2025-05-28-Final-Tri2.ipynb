{
 "cells": [
  {
   "cell_type": "code",
   "execution_count": null,
   "metadata": {
    "vscode": {
     "languageId": "yaml"
    }
   },
   "outputs": [],
   "source": [
    "---\n",
    "toc: false\n",
    "layout: tailwindPost\n",
    "infoGraph: finals\n",
    "title: \"Finals\"\n",
    "categories: \n",
    "  - Finals\n",
    "description: \"Everything I have learned in CSSE tri 2 and 3\"\n",
    "type: \"ccc\"\n",
    "author: \"Yuna Lee\"\n",
    "permalink: /gamify/finals/\n",
    "breadcrumb: true\n",
    "sticky_rank: 2\n",
    "---"
   ]
  },
  {
   "cell_type": "markdown",
   "metadata": {},
   "source": [
    "{%- include tailwind/finals.html -%}"
   ]
  }
 ],
 "metadata": {
  "language_info": {
   "name": "python"
  }
 },
 "nbformat": 4,
 "nbformat_minor": 2
}
