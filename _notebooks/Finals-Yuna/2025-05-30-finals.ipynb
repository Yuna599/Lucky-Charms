{
 "cells": [
  {
   "cell_type": "code",
   "execution_count": null,
   "metadata": {
    "vscode": {
     "languageId": "yaml"
    }
   },
   "outputs": [],
   "source": [
    "---\n",
    "layout: tailwindPost\n",
    "infoGraph: finals\n",
    "graphStyle: finals\n",
    "title: Finals\n",
    "categories: [Finals]\n",
    "description: \"Finals for this year as a whole in CSSE\"\n",
    "author: Yuna Lee\n",
    "permalink: /finals\n",
    "---"
   ]
  },
  {
   "cell_type": "code",
   "execution_count": null,
   "metadata": {
    "vscode": {
     "languageId": "html"
    }
   },
   "outputs": [],
   "source": [
    "<header class=\"page-header\">\n",
    "  <h1>Finals</h1>\n",
    "  <p>Finals for this year as a whole in CSSE</p>\n",
    "</header>"
   ]
  },
  {
   "cell_type": "markdown",
   "metadata": {},
   "source": [
    "{% assign codeData = site.data.finalReview %}\n",
    "{% include tailwind/finale.html data=codeData %}"
   ]
  },
  {
   "cell_type": "markdown",
   "metadata": {},
   "source": [
    "{% include tailwind/finals.html data=codeData %}"
   ]
  }
 ],
 "metadata": {
  "language_info": {
   "name": "python"
  }
 },
 "nbformat": 4,
 "nbformat_minor": 2
}
