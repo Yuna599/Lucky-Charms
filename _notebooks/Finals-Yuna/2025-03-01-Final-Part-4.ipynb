{
 "cells": [
  {
   "cell_type": "code",
   "execution_count": null,
   "metadata": {
    "vscode": {
     "languageId": "yaml"
    }
   },
   "outputs": [],
   "source": [
    "---\n",
    "layout: post\n",
    "title: Final Part 4\n",
    "description: N@tM feedbacks\n",
    "categories: [Finals]\n",
    "permalink: /Finals4\n",
    "author: Yuna Lee\n",
    "menu: nav/Finals.html\n",
    "toc: true\n",
    "comments: true\n",
    "---"
   ]
  },
  {
   "cell_type": "markdown",
   "metadata": {},
   "source": [
    "N@tM feedback from your demo, we are hoping for adult feedback or more advanced Computer Science student feedback (5 - 10 points of feedback)"
   ]
  },
  {
   "cell_type": "markdown",
   "metadata": {},
   "source": [
    "##### Namira - \n",
    "The game overall has a very creative storyline. i love the addition of the sprite sheet changing througout the game - it really draws in players and allows them to connect with the story. \n",
    "\n",
    "##### Hope - \n",
    "This game has a wonderful storyline and really encourages the player to work hard in order to reach the end of the game! Although the game is unfinished, I can tell that by the game is 'finished' (has an ending) it will be a very good and cute game. 10/10 game, I'm excited to see where it goes."
   ]
  },
  {
   "cell_type": "markdown",
   "metadata": {},
   "source": [
    "##### Paul Yue-\n",
    "\n",
    "The game is very cool, and the background is nice. The way you progreess is well designed and I think the game is overall pretty nice. \n",
    "\n",
    "##### Zhengji Li-\n",
    "\n",
    "Game is very interactive with a great backstory. Sprites look well made and well designed.\n",
    "\n",
    "##### Advait Deshpande-\n",
    "\n",
    "Game is way better than ours; has music and custom dialogue with multiple dialogue paths, and a well-built storyline. - \n",
    "\n",
    "##### Elise - \n",
    "\n",
    "I like how there is a storyline with your game and there is a quest to do something! I also liked the use of sound effects, like when you interact with the sword guardian. Make sure to try to get the gym to work and point out the \"go to gym\" button, because I didn't even notice it until you pointed it out. I think if you finished the story, it would enhance the game even more, too. Good job on what you have so far, though!\n",
    "\n",
    "##### Anishka-\n",
    "\n",
    "Your game is really good! I really like the storyline, and the buttons and background music is very creative. Some parts of the game are not there yet, but I would maybe work on making some of the first instructions more clear so that the player knows where exactly to go.\n",
    "\n"
   ]
  }
 ],
 "metadata": {
  "language_info": {
   "name": "python"
  }
 },
 "nbformat": 4,
 "nbformat_minor": 2
}
