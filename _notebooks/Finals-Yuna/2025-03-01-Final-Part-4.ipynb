{
 "cells": [
  {
   "cell_type": "code",
   "execution_count": null,
   "metadata": {
    "vscode": {
     "languageId": "yaml"
    }
   },
   "outputs": [],
   "source": [
    "---\n",
    "layout: post\n",
    "title: Final Part 4\n",
    "description: N@tM feedbacks\n",
    "categories: [CSSE JavaScript Fundamentals]\n",
    "permalink: /Finals4\n",
    "author: Yuna Lee\n",
    "menu: nav/Finals.html\n",
    "toc: true\n",
    "comments: true\n",
    "---"
   ]
  },
  {
   "cell_type": "markdown",
   "metadata": {},
   "source": [
    "N@tM feedback from your demo, we are hoping for adult feedback or more advanced Computer Science student feedback (5 - 10 points of feedback)"
   ]
  },
  {
   "cell_type": "markdown",
   "metadata": {},
   "source": [
    "##### Namira - \n",
    "The game overall has a very creative storyline. i love the addition of the sprite sheet changing througout the game - it really draws in players and allows them to connect with the story. \n",
    "\n",
    "##### Hope - \n",
    "This game has a wonderful storyline and really encourages the player to work hard in order to reach the end of the game! Although the game is unfinished, I can tell that by the game is 'finished' (has an ending) it will be a very good and cute game. 10/10 game, I'm excited to see where it goes."
   ]
  },
  {
   "cell_type": "markdown",
   "metadata": {},
   "source": [
    " - 4 more people "
   ]
  }
 ],
 "metadata": {
  "language_info": {
   "name": "python"
  }
 },
 "nbformat": 4,
 "nbformat_minor": 2
}
