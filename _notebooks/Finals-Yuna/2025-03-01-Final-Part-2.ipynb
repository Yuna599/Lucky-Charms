{
 "cells": [
  {
   "cell_type": "code",
   "execution_count": null,
   "metadata": {
    "vscode": {
     "languageId": "yaml"
    }
   },
   "outputs": [],
   "source": [
    "---\n",
    "layout: post\n",
    "title: Final Part 2\n",
    "description: 3 or more RPG game tinkers\n",
    "categories: [Finals]\n",
    "permalink: /Finals2\n",
    "author: Yuna Lee\n",
    "menu: nav/Finals.html\n",
    "toc: true\n",
    "comments: true\n",
    "---"
   ]
  },
  {
   "cell_type": "markdown",
   "metadata": {},
   "source": [
    "RPG Game Tinkers (3 or more)"
   ]
  },
  {
   "cell_type": "markdown",
   "metadata": {},
   "source": [
    "##### Tinker 1:\n",
    "One of the tinkers that we made is the sound of pulling out the sword from the stone.\n",
    "\n",
    "##### Tinker 2: \n",
    "Another tinker that we made is to be able to actually have a conversation with the sword in the middle.\n",
    "\n",
    "##### Tinker 3:\n",
    "The 3rd tinker that we made is to create the storyline pop up at the start of the game when you press the start game button\n",
    "\n",
    "##### Tinker 4:\n",
    "The last tinker that we made is a background music that plays after pressing the start game button"
   ]
  }
 ],
 "metadata": {
  "language_info": {
   "name": "python"
  }
 },
 "nbformat": 4,
 "nbformat_minor": 2
}
